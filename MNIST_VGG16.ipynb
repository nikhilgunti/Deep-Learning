{
  "nbformat": 4,
  "nbformat_minor": 0,
  "metadata": {
    "colab": {
      "name": "MNIST-VGG16.ipynb",
      "provenance": [],
      "collapsed_sections": [],
      "authorship_tag": "ABX9TyOy33d0jntaHRTRXpSf2Ug4",
      "include_colab_link": true
    },
    "kernelspec": {
      "name": "python3",
      "display_name": "Python 3"
    },
    "accelerator": "GPU"
  },
  "cells": [
    {
      "cell_type": "markdown",
      "metadata": {
        "id": "view-in-github",
        "colab_type": "text"
      },
      "source": [
        "<a href=\"https://colab.research.google.com/github/nikhilgunti/Deep-Learning/blob/master/MNIST_VGG16.ipynb\" target=\"_parent\"><img src=\"https://colab.research.google.com/assets/colab-badge.svg\" alt=\"Open In Colab\"/></a>"
      ]
    },
    {
      "cell_type": "code",
      "metadata": {
        "id": "dFjpVbtby5hc",
        "colab_type": "code",
        "colab": {}
      },
      "source": [
        "from IPython.core.interactiveshell import InteractiveShell\n",
        "InteractiveShell.ast_node_interactivity = \"all\""
      ],
      "execution_count": 0,
      "outputs": []
    },
    {
      "cell_type": "code",
      "metadata": {
        "id": "YUGuyLvJwDQe",
        "colab_type": "code",
        "colab": {}
      },
      "source": [
        "import numpy as np\n",
        "import pandas as pd\n",
        "import matplotlib.pyplot as plt\n",
        "\n",
        "import tensorflow as tf\n",
        "from tensorflow import keras\n",
        "\n",
        "from tensorflow.python.keras.models import Sequential\n",
        "from tensorflow.python.keras.layers import Dense\n",
        "from tensorflow.python.keras.layers import Conv2D\n",
        "from tensorflow.python.keras.layers import MaxPooling2D\n",
        "from tensorflow.python.keras.layers import Flatten\n",
        "from tensorflow.python.keras.layers import ZeroPadding2D\n",
        "from tensorflow.python.keras.layers import Activation, Dropout\n",
        "from tensorflow.python.keras.layers.normalization import BatchNormalization\n",
        "from tensorflow.python.keras.preprocessing.image import ImageDataGenerator\n",
        "from tensorflow.python.keras.optimizers import adam\n",
        "from keras.utils import np_utils\n",
        "\n",
        "from skimage.transform import resize"
      ],
      "execution_count": 0,
      "outputs": []
    },
    {
      "cell_type": "code",
      "metadata": {
        "id": "ZQkzoCMRwJSi",
        "colab_type": "code",
        "colab": {}
      },
      "source": [
        "from tensorflow.keras.datasets import mnist\n",
        "(X_train, Y_train),(X_test, Y_test) = mnist.load_data()"
      ],
      "execution_count": 0,
      "outputs": []
    },
    {
      "cell_type": "code",
      "metadata": {
        "id": "X4I6Gpu0x2ii",
        "colab_type": "code",
        "outputId": "d1ee8f74-37ec-40cc-bb34-c63c00c26857",
        "colab": {
          "base_uri": "https://localhost:8080/",
          "height": 35
        }
      },
      "source": [
        "X_train.shape\n",
        "X_test.shape"
      ],
      "execution_count": 0,
      "outputs": [
        {
          "output_type": "execute_result",
          "data": {
            "text/plain": [
              "(10000, 28, 28)"
            ]
          },
          "metadata": {
            "tags": []
          },
          "execution_count": 26
        }
      ]
    },
    {
      "cell_type": "code",
      "metadata": {
        "id": "uYAbZRQ_wQSb",
        "colab_type": "code",
        "outputId": "e481c58b-4e86-4414-f404-0882082a236c",
        "colab": {
          "base_uri": "https://localhost:8080/",
          "height": 283
        }
      },
      "source": [
        "plt.imshow(X_train[0])"
      ],
      "execution_count": 0,
      "outputs": [
        {
          "output_type": "execute_result",
          "data": {
            "text/plain": [
              "<matplotlib.image.AxesImage at 0x7fac064ff128>"
            ]
          },
          "metadata": {
            "tags": []
          },
          "execution_count": 27
        },
        {
          "output_type": "display_data",
          "data": {
            "image/png": "[encoded data removed]",
            "text/plain": [
              "<Figure size 432x288 with 1 Axes>"
            ]
          },
          "metadata": {
            "tags": []
          }
        }
      ]
    },
    {
      "cell_type": "markdown",
      "metadata": {
        "id": "1MYqDmxR0Smz",
        "colab_type": "text"
      },
      "source": [
        "CNN architecture  - VGG16"
      ]
    },
    {
      "cell_type": "code",
      "metadata": {
        "id": "5d-HO0NHnKwq",
        "colab_type": "code",
        "outputId": "5b9bbc0e-0c16-4840-ef4a-1ebd17256f4c",
        "colab": {
          "base_uri": "https://localhost:8080/",
          "height": 287
        }
      },
      "source": [
        "samp_img = resize(X_test[0], (224,224))\n",
        "plt.imshow(samp_img)"
      ],
      "execution_count": 0,
      "outputs": [
        {
          "output_type": "execute_result",
          "data": {
            "text/plain": [
              "<matplotlib.image.AxesImage at 0x7faadce9b390>"
            ]
          },
          "metadata": {
            "tags": []
          },
          "execution_count": 22
        },
        {
          "output_type": "display_data",
          "data": {
            "image/png": "[encoded data removed]",
            "text/plain": [
              "<Figure size 432x288 with 1 Axes>"
            ]
          },
          "metadata": {
            "tags": []
          }
        }
      ]
    },
    {
      "cell_type": "code",
      "metadata": {
        "id": "M0zcgZlNDrzm",
        "colab_type": "code",
        "colab": {}
      },
      "source": [
        "\n",
        "# network parameters \n",
        "batch_size = 60\n",
        "num_classes = 10\n",
        "epochs = 5 # Further Fine Tuning can be done\n",
        "nb_train_samples = 60000\n",
        "nb_valid_samples = 10000\n",
        "\n",
        "# input image dimensions\n",
        "img_rows, img_cols = 28, 28\n",
        "\n",
        "# preprocess the train data \n",
        "X_train = X_train.reshape(X_train.shape[0], img_rows, img_cols, 1)\n",
        "X_train = X_train.astype('float32')\n",
        "X_train /= 255\n",
        "\n",
        "# preprocess the validation data\n",
        "X_test = X_test.reshape(X_test.shape[0], img_rows, img_cols, 1)\n",
        "X_test = X_test.astype('float32')\n",
        "X_test /= 255\n",
        "\n",
        "input_shape = (img_rows, img_cols, 1)\n",
        "\n",
        "Y_train = np_utils.to_categorical(Y_train, num_classes=10)\n",
        "Y_test = np_utils.to_categorical(Y_test, num_classes=10)"
      ],
      "execution_count": 0,
      "outputs": []
    },
    {
      "cell_type": "code",
      "metadata": {
        "id": "sLiOFJTPsLWM",
        "colab_type": "code",
        "outputId": "224b804d-6ca1-4eb7-b057-d57d1fd23534",
        "colab": {
          "base_uri": "https://localhost:8080/",
          "height": 35
        }
      },
      "source": [
        "Y_test.shape"
      ],
      "execution_count": 0,
      "outputs": [
        {
          "output_type": "execute_result",
          "data": {
            "text/plain": [
              "(10000, 10)"
            ]
          },
          "metadata": {
            "tags": []
          },
          "execution_count": 30
        }
      ]
    },
    {
      "cell_type": "code",
      "metadata": {
        "id": "ZZtJ6dgsxWwF",
        "colab_type": "code",
        "outputId": "06ac5f4b-ca0f-474a-f7db-97809760af89",
        "colab": {
          "base_uri": "https://localhost:8080/",
          "height": 919
        }
      },
      "source": [
        "model = Sequential()\n",
        "model.add(Conv2D(filters = 32, kernel_size = (3,3),padding = 'Same', \n",
        "                 activation ='relu', input_shape = input_shape))\n",
        "model.add(ZeroPadding2D(padding=(2,2)))\n",
        "model.add(Conv2D(filters=64, kernel_size=(3,3), padding='same', activation='relu'))\n",
        "model.add(MaxPooling2D(pool_size=(2,2), strides=(2,2)))\n",
        "\n",
        "model.add(Conv2D(filters=128, kernel_size=(3,3), padding='same', activation='relu'))\n",
        "model.add(Conv2D(filters=128, kernel_size=(3,3), padding='same', activation='relu'))\n",
        "model.add(MaxPooling2D(pool_size=(2,2), strides=(2,2)))\n",
        "\n",
        "model.add(Conv2D(filters=256, kernel_size=(3,3), padding='same', activation='relu'))\n",
        "model.add(Conv2D(filters=256, kernel_size=(3,3), padding='same', activation='relu'))\n",
        "model.add(MaxPooling2D(pool_size=(2,2), strides=(2,2)))\n",
        "\n",
        "model.add(Conv2D(filters=512, kernel_size=(3,3), padding='same', activation='relu'))\n",
        "model.add(Conv2D(filters=512, kernel_size=(3,3), padding='same', activation='relu'))\n",
        "model.add(Conv2D(filters=512, kernel_size=(3,3), padding='same', activation='relu'))\n",
        "model.add(MaxPooling2D(pool_size=(2,2), strides=(2,2)))\n",
        "\n",
        "model.add(Conv2D(filters=512, kernel_size=(3,3), padding='same', activation='relu'))\n",
        "model.add(Conv2D(filters=512, kernel_size=(3,3), padding='same', activation='relu'))\n",
        "model.add(Conv2D(filters=512, kernel_size=(3,3), padding='same', activation='relu'))\n",
        "model.add(MaxPooling2D(pool_size=(2,2), strides=(2,2)))\n",
        "\n",
        "model.add(Flatten())\n",
        "model.add(Dense(units=512, activation='relu'))\n",
        "model.add(Dense(units=512, activation='relu'))\n",
        "model.add(Dense(units=10, activation='softmax'))\n",
        "model.summary()"
      ],
      "execution_count": 0,
      "outputs": [
        {
          "output_type": "stream",
          "text": [
            "Model: \"sequential_1\"\n",
            "_________________________________________________________________\n",
            "Layer (type)                 Output Shape              Param #   \n",
            "=================================================================\n",
            "conv2d_12 (Conv2D)           (None, 28, 28, 32)        320       \n",
            "_________________________________________________________________\n",
            "zero_padding2d_1 (ZeroPaddin (None, 32, 32, 32)        0         \n",
            "_________________________________________________________________\n",
            "conv2d_13 (Conv2D)           (None, 32, 32, 64)        18496     \n",
            "_________________________________________________________________\n",
            "max_pooling2d_5 (MaxPooling2 (None, 16, 16, 64)        0         \n",
            "_________________________________________________________________\n",
            "conv2d_14 (Conv2D)           (None, 16, 16, 128)       73856     \n",
            "_________________________________________________________________\n",
            "conv2d_15 (Conv2D)           (None, 16, 16, 128)       147584    \n",
            "_________________________________________________________________\n",
            "max_pooling2d_6 (MaxPooling2 (None, 8, 8, 128)         0         \n",
            "_________________________________________________________________\n",
            "conv2d_16 (Conv2D)           (None, 8, 8, 256)         295168    \n",
            "_________________________________________________________________\n",
            "conv2d_17 (Conv2D)           (None, 8, 8, 256)         590080    \n",
            "_________________________________________________________________\n",
            "max_pooling2d_7 (MaxPooling2 (None, 4, 4, 256)         0         \n",
            "_________________________________________________________________\n",
            "conv2d_18 (Conv2D)           (None, 4, 4, 512)         1180160   \n",
            "_________________________________________________________________\n",
            "conv2d_19 (Conv2D)           (None, 4, 4, 512)         2359808   \n",
            "_________________________________________________________________\n",
            "conv2d_20 (Conv2D)           (None, 4, 4, 512)         2359808   \n",
            "_________________________________________________________________\n",
            "max_pooling2d_8 (MaxPooling2 (None, 2, 2, 512)         0         \n",
            "_________________________________________________________________\n",
            "conv2d_21 (Conv2D)           (None, 2, 2, 512)         2359808   \n",
            "_________________________________________________________________\n",
            "conv2d_22 (Conv2D)           (None, 2, 2, 512)         2359808   \n",
            "_________________________________________________________________\n",
            "conv2d_23 (Conv2D)           (None, 2, 2, 512)         2359808   \n",
            "_________________________________________________________________\n",
            "max_pooling2d_9 (MaxPooling2 (None, 1, 1, 512)         0         \n",
            "_________________________________________________________________\n",
            "flatten_1 (Flatten)          (None, 512)               0         \n",
            "_________________________________________________________________\n",
            "dense_3 (Dense)              (None, 512)               262656    \n",
            "_________________________________________________________________\n",
            "dense_4 (Dense)              (None, 512)               262656    \n",
            "_________________________________________________________________\n",
            "dense_5 (Dense)              (None, 10)                5130      \n",
            "=================================================================\n",
            "Total params: 14,635,146\n",
            "Trainable params: 14,635,146\n",
            "Non-trainable params: 0\n",
            "_________________________________________________________________\n"
          ],
          "name": "stdout"
        }
      ]
    },
    {
      "cell_type": "code",
      "metadata": {
        "id": "VrwMj8z93_z-",
        "colab_type": "code",
        "colab": {}
      },
      "source": [
        "model.compile(optimizer='adam', loss='categorical_crossentropy', metrics=['accuracy'])\n"
      ],
      "execution_count": 0,
      "outputs": []
    },
    {
      "cell_type": "code",
      "metadata": {
        "id": "nnsIVIzMsaDY",
        "colab_type": "code",
        "outputId": "4dbb1c9c-9577-4016-e240-7acb7fb18da3",
        "colab": {
          "base_uri": "https://localhost:8080/",
          "height": 1000
        }
      },
      "source": [
        "result = model.fit(X_train, Y_train, batch_size=batch_size, epochs=50, verbose=2,shuffle=1, validation_split=0.2)"
      ],
      "execution_count": 0,
      "outputs": [
        {
          "output_type": "stream",
          "text": [
            "Epoch 1/50\n",
            "800/800 - 41s - loss: 0.0511 - accuracy: 0.9891 - val_loss: 0.0679 - val_accuracy: 0.9854\n",
            "Epoch 2/50\n",
            "800/800 - 40s - loss: 0.0570 - accuracy: 0.9879 - val_loss: 0.0540 - val_accuracy: 0.9896\n",
            "Epoch 3/50\n",
            "800/800 - 40s - loss: 0.0375 - accuracy: 0.9918 - val_loss: 0.0534 - val_accuracy: 0.9896\n",
            "Epoch 4/50\n",
            "800/800 - 40s - loss: 0.0407 - accuracy: 0.9915 - val_loss: 0.0502 - val_accuracy: 0.9898\n",
            "Epoch 5/50\n",
            "800/800 - 40s - loss: 0.0547 - accuracy: 0.9895 - val_loss: 0.0859 - val_accuracy: 0.9831\n",
            "Epoch 6/50\n",
            "800/800 - 40s - loss: 0.0378 - accuracy: 0.9909 - val_loss: 0.0566 - val_accuracy: 0.9889\n",
            "Epoch 7/50\n",
            "800/800 - 40s - loss: 0.0302 - accuracy: 0.9932 - val_loss: 0.0970 - val_accuracy: 0.9819\n",
            "Epoch 8/50\n",
            "800/800 - 40s - loss: 0.0253 - accuracy: 0.9943 - val_loss: 0.0419 - val_accuracy: 0.9920\n",
            "Epoch 9/50\n",
            "800/800 - 40s - loss: 0.0286 - accuracy: 0.9939 - val_loss: 0.0641 - val_accuracy: 0.9874\n",
            "Epoch 10/50\n",
            "800/800 - 40s - loss: 0.0394 - accuracy: 0.9919 - val_loss: 0.0430 - val_accuracy: 0.9905\n",
            "Epoch 11/50\n",
            "800/800 - 40s - loss: 0.0236 - accuracy: 0.9950 - val_loss: 0.0488 - val_accuracy: 0.9902\n",
            "Epoch 12/50\n",
            "800/800 - 40s - loss: 0.0298 - accuracy: 0.9938 - val_loss: 0.0563 - val_accuracy: 0.9894\n",
            "Epoch 13/50\n",
            "800/800 - 40s - loss: 0.0259 - accuracy: 0.9942 - val_loss: 0.0850 - val_accuracy: 0.9849\n",
            "Epoch 14/50\n",
            "800/800 - 40s - loss: 0.0275 - accuracy: 0.9941 - val_loss: 0.0441 - val_accuracy: 0.9915\n",
            "Epoch 15/50\n",
            "800/800 - 40s - loss: 0.0236 - accuracy: 0.9946 - val_loss: 0.0694 - val_accuracy: 0.9894\n",
            "Epoch 16/50\n",
            "800/800 - 40s - loss: 0.0315 - accuracy: 0.9938 - val_loss: 0.0465 - val_accuracy: 0.9902\n",
            "Epoch 17/50\n",
            "800/800 - 40s - loss: 0.0172 - accuracy: 0.9960 - val_loss: 0.0543 - val_accuracy: 0.9915\n",
            "Epoch 18/50\n",
            "800/800 - 40s - loss: 0.0121 - accuracy: 0.9970 - val_loss: 0.0593 - val_accuracy: 0.9912\n",
            "Epoch 19/50\n",
            "800/800 - 40s - loss: 0.0216 - accuracy: 0.9956 - val_loss: 0.0756 - val_accuracy: 0.9877\n",
            "Epoch 20/50\n",
            "800/800 - 40s - loss: 0.0273 - accuracy: 0.9945 - val_loss: 0.0644 - val_accuracy: 0.9901\n",
            "Epoch 21/50\n",
            "800/800 - 40s - loss: 0.0340 - accuracy: 0.9937 - val_loss: 0.0806 - val_accuracy: 0.9794\n",
            "Epoch 22/50\n",
            "800/800 - 40s - loss: 0.0208 - accuracy: 0.9953 - val_loss: 0.1027 - val_accuracy: 0.9772\n",
            "Epoch 23/50\n",
            "800/800 - 40s - loss: 0.0222 - accuracy: 0.9953 - val_loss: 0.0933 - val_accuracy: 0.9865\n",
            "Epoch 24/50\n",
            "800/800 - 40s - loss: 0.0174 - accuracy: 0.9962 - val_loss: 0.1425 - val_accuracy: 0.9884\n",
            "Epoch 25/50\n",
            "800/800 - 40s - loss: 0.0226 - accuracy: 0.9953 - val_loss: 0.1167 - val_accuracy: 0.9795\n",
            "Epoch 26/50\n",
            "800/800 - 40s - loss: 0.0303 - accuracy: 0.9943 - val_loss: 0.0648 - val_accuracy: 0.9887\n",
            "Epoch 27/50\n",
            "800/800 - 40s - loss: 0.0140 - accuracy: 0.9970 - val_loss: 0.3345 - val_accuracy: 0.9877\n",
            "Epoch 28/50\n",
            "800/800 - 40s - loss: 0.0182 - accuracy: 0.9960 - val_loss: 0.0811 - val_accuracy: 0.9919\n",
            "Epoch 29/50\n",
            "800/800 - 40s - loss: 0.0101 - accuracy: 0.9979 - val_loss: 0.1134 - val_accuracy: 0.9918\n",
            "Epoch 30/50\n",
            "800/800 - 40s - loss: 0.0476 - accuracy: 0.9911 - val_loss: 0.0603 - val_accuracy: 0.9908\n",
            "Epoch 31/50\n",
            "800/800 - 40s - loss: 0.0144 - accuracy: 0.9968 - val_loss: 0.1366 - val_accuracy: 0.9905\n",
            "Epoch 32/50\n",
            "800/800 - 40s - loss: 0.0107 - accuracy: 0.9977 - val_loss: 0.2026 - val_accuracy: 0.9890\n",
            "Epoch 33/50\n",
            "800/800 - 40s - loss: 0.0173 - accuracy: 0.9963 - val_loss: 0.0783 - val_accuracy: 0.9913\n",
            "Epoch 34/50\n",
            "800/800 - 40s - loss: 0.0249 - accuracy: 0.9951 - val_loss: 0.0819 - val_accuracy: 0.9845\n",
            "Epoch 35/50\n",
            "800/800 - 40s - loss: 0.0198 - accuracy: 0.9956 - val_loss: 0.0669 - val_accuracy: 0.9929\n",
            "Epoch 36/50\n",
            "800/800 - 40s - loss: 0.0226 - accuracy: 0.9964 - val_loss: 0.0589 - val_accuracy: 0.9852\n",
            "Epoch 37/50\n",
            "800/800 - 40s - loss: 0.0154 - accuracy: 0.9967 - val_loss: 0.0834 - val_accuracy: 0.9930\n",
            "Epoch 38/50\n",
            "800/800 - 40s - loss: 0.0109 - accuracy: 0.9975 - val_loss: 0.0522 - val_accuracy: 0.9922\n",
            "Epoch 39/50\n",
            "800/800 - 40s - loss: 0.0178 - accuracy: 0.9966 - val_loss: 0.0630 - val_accuracy: 0.9879\n",
            "Epoch 40/50\n",
            "800/800 - 40s - loss: 0.0345 - accuracy: 0.9940 - val_loss: 0.0617 - val_accuracy: 0.9882\n",
            "Epoch 41/50\n",
            "800/800 - 40s - loss: 0.0147 - accuracy: 0.9965 - val_loss: 0.0611 - val_accuracy: 0.9898\n",
            "Epoch 42/50\n",
            "800/800 - 40s - loss: 0.0316 - accuracy: 0.9945 - val_loss: 0.0717 - val_accuracy: 0.9865\n",
            "Epoch 43/50\n",
            "800/800 - 40s - loss: 0.0363 - accuracy: 0.9923 - val_loss: 0.0663 - val_accuracy: 0.9912\n",
            "Epoch 44/50\n",
            "800/800 - 40s - loss: 0.0171 - accuracy: 0.9969 - val_loss: 0.0508 - val_accuracy: 0.9917\n",
            "Epoch 45/50\n",
            "800/800 - 40s - loss: 0.0092 - accuracy: 0.9982 - val_loss: 0.0590 - val_accuracy: 0.9922\n",
            "Epoch 46/50\n",
            "800/800 - 40s - loss: 0.0057 - accuracy: 0.9986 - val_loss: 0.0778 - val_accuracy: 0.9935\n",
            "Epoch 47/50\n",
            "800/800 - 40s - loss: 0.0099 - accuracy: 0.9981 - val_loss: 0.0922 - val_accuracy: 0.9919\n",
            "Epoch 48/50\n",
            "800/800 - 40s - loss: 0.0229 - accuracy: 0.9959 - val_loss: 0.0741 - val_accuracy: 0.9877\n",
            "Epoch 49/50\n",
            "800/800 - 40s - loss: 0.0207 - accuracy: 0.9964 - val_loss: 0.1326 - val_accuracy: 0.9822\n",
            "Epoch 50/50\n",
            "800/800 - 40s - loss: 0.0146 - accuracy: 0.9969 - val_loss: 0.0924 - val_accuracy: 0.9922\n"
          ],
          "name": "stdout"
        }
      ]
    },
    {
      "cell_type": "code",
      "metadata": {
        "id": "SEnXwnLlwGaQ",
        "colab_type": "code",
        "outputId": "b1c6c03e-c318-4b7a-912e-79274fbe1c02",
        "colab": {
          "base_uri": "https://localhost:8080/",
          "height": 35
        }
      },
      "source": [
        "score = model.evaluate(X_test, Y_test, verbose=0)\n",
        "score"
      ],
      "execution_count": 0,
      "outputs": [
        {
          "output_type": "execute_result",
          "data": {
            "text/plain": [
              "[0.082532599568367, 0.9925000071525574]"
            ]
          },
          "metadata": {
            "tags": []
          },
          "execution_count": 39
        }
      ]
    },
    {
      "cell_type": "code",
      "metadata": {
        "id": "xBRXw_OQwNQt",
        "colab_type": "code",
        "outputId": "b17ea7ac-dbf4-47ae-c53c-3f52a87a1fa2",
        "colab": {
          "base_uri": "https://localhost:8080/",
          "height": 295
        }
      },
      "source": [
        "# summarize history for accuracy\n",
        "plt.plot(result.history['accuracy'])\n",
        "plt.plot(result.history['val_accuracy'])\n",
        "plt.title('model accuracy')\n",
        "plt.ylabel('accuracy')\n",
        "plt.xlabel('epoch')\n",
        "plt.legend(['train', 'val'], loc='upper left')\n",
        "plt.show()"
      ],
      "execution_count": 0,
      "outputs": [
        {
          "output_type": "display_data",
          "data": {
            "image/png": "[encoded data removed]",
            "text/plain": [
              "<Figure size 432x288 with 1 Axes>"
            ]
          },
          "metadata": {
            "tags": []
          }
        }
      ]
    },
    {
      "cell_type": "code",
      "metadata": {
        "id": "Ky1yKJrpyHr3",
        "colab_type": "code",
        "outputId": "2a059ed7-8132-48d4-b7e2-b9f533046536",
        "colab": {
          "base_uri": "https://localhost:8080/",
          "height": 295
        }
      },
      "source": [
        "#plot for loss\n",
        "plt.plot(result.history['loss'])\n",
        "plt.plot(result.history['val_loss'])\n",
        "plt.title('model loss')\n",
        "plt.ylabel('loss')\n",
        "plt.xlabel('epoch')\n",
        "plt.legend(['train', 'val'], loc='upper left')\n",
        "plt.show()"
      ],
      "execution_count": 0,
      "outputs": [
        {
          "output_type": "display_data",
          "data": {
            "image/png": "[encoded data removed]",
            "text/plain": [
              "<Figure size 432x288 with 1 Axes>"
            ]
          },
          "metadata": {
            "tags": []
          }
        }
      ]
    },
    {
      "cell_type": "code",
      "metadata": {
        "id": "JE8V3BfrtxWk",
        "colab_type": "code",
        "colab": {}
      },
      "source": [
        ""
      ],
      "execution_count": 0,
      "outputs": []
    }
  ]
}