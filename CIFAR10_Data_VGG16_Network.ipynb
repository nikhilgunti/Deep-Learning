{
 "cells": [
  {
   "cell_type": "code",
   "execution_count": 0,
   "metadata": {
    "colab": {},
    "colab_type": "code",
    "id": "b9V3Am3RXZ5k"
   },
   "outputs": [],
   "source": [
    "import numpy as np\n",
    "import pandas as pd\n",
    "import matplotlib.pyplot as plt\n",
    "\n",
    "import tensorflow as tf\n",
    "from tensorflow import keras\n",
    "\n",
    "from tensorflow.python.keras.models import Sequential\n",
    "from tensorflow.python.keras.layers import Dense\n",
    "from tensorflow.python.keras.layers import Conv2D\n",
    "from tensorflow.python.keras.layers import MaxPooling2D\n",
    "from tensorflow.python.keras.layers import Flatten\n",
    "from tensorflow.python.keras.layers import ZeroPadding2D\n",
    "from tensorflow.python.keras.layers import Activation, Dropout\n",
    "from tensorflow.python.keras.layers.normalization import BatchNormalization\n",
    "from tensorflow.python.keras.preprocessing.image import ImageDataGenerator\n",
    "from keras.optimizers import Adam\n",
    "from keras.optimizers import RMSprop\n",
    "from keras.utils import np_utils\n",
    "from keras.utils.np_utils import to_categorical"
   ]
  },
  {
   "cell_type": "code",
   "execution_count": 0,
   "metadata": {
    "colab": {},
    "colab_type": "code",
    "id": "8lOgyy9rXZ5p"
   },
   "outputs": [],
   "source": [
    "from tensorflow.keras.datasets import cifar10\n",
    "(X_train, Y_train), (X_test, Y_test) = cifar10.load_data()"
   ]
  },
  {
   "cell_type": "code",
   "execution_count": 39,
   "metadata": {
    "colab": {
     "base_uri": "https://localhost:8080/",
     "height": 51
    },
    "colab_type": "code",
    "executionInfo": {
     "elapsed": 64431,
     "status": "ok",
     "timestamp": 1586403972721,
     "user": {
      "displayName": "Sanjoy Kundu",
      "photoUrl": "",
      "userId": "11366564890450274220"
     },
     "user_tz": 300
    },
    "id": "-Sj9qulRXZ5t",
    "outputId": "3ec02733-fe8e-4f41-93b7-2f680b4ed473"
   },
   "outputs": [
    {
     "name": "stdout",
     "output_type": "stream",
     "text": [
      "(50000, 32, 32, 3)\n"
     ]
    },
    {
     "data": {
      "text/plain": [
       "(10000, 32, 32, 3)"
      ]
     },
     "execution_count": 39,
     "metadata": {
      "tags": []
     },
     "output_type": "execute_result"
    }
   ],
   "source": [
    "print(X_train.shape)\n",
    "X_test.shape"
   ]
  },
  {
   "cell_type": "code",
   "execution_count": 40,
   "metadata": {
    "colab": {
     "base_uri": "https://localhost:8080/",
     "height": 283
    },
    "colab_type": "code",
    "executionInfo": {
     "elapsed": 64423,
     "status": "ok",
     "timestamp": 1586403972722,
     "user": {
      "displayName": "Sanjoy Kundu",
      "photoUrl": "",
      "userId": "11366564890450274220"
     },
     "user_tz": 300
    },
    "id": "HwBX4aGXXZ5x",
    "outputId": "c6b22a53-c8d3-43c0-ddb7-5c3bc16f671c"
   },
   "outputs": [
    {
     "data": {
      "text/plain": [
       "<matplotlib.image.AxesImage at 0x7f0ea60b0b00>"
      ]
     },
     "execution_count": 40,
     "metadata": {
      "tags": []
     },
     "output_type": "execute_result"
    },
    {
     "data": {
      "image/png": "[encoded data removed]",
      "text/plain": [
       "<Figure size 432x288 with 1 Axes>"
      ]
     },
     "metadata": {
      "tags": []
     },
     "output_type": "display_data"
    }
   ],
   "source": [
    "plt.imshow(X_train[1000])"
   ]
  },
  {
   "cell_type": "code",
   "execution_count": 0,
   "metadata": {
    "colab": {},
    "colab_type": "code",
    "id": "_uHc3ylFXZ51"
   },
   "outputs": [],
   "source": [
    "X_train = X_train.reshape(50000, 32, 32, 3) #reshaping the data for the CNN model \n",
    "X_test = X_test.reshape(10000, 32, 32, 3)\n",
    "\n",
    "\n",
    "Y_train = to_categorical(Y_train, 10)      # one hot encoding of traing data label \n",
    "Y_test = to_categorical(Y_test, 10)        # one hot encoding of test data label \n",
    "     \n",
    "X_train = X_train/255                      #Normalization of training and test data\n",
    "X_test = X_test/255"
   ]
  },
  {
   "cell_type": "code",
   "execution_count": 42,
   "metadata": {
    "colab": {
     "base_uri": "https://localhost:8080/",
     "height": 34
    },
    "colab_type": "code",
    "executionInfo": {
     "elapsed": 64816,
     "status": "ok",
     "timestamp": 1586403973133,
     "user": {
      "displayName": "Sanjoy Kundu",
      "photoUrl": "",
      "userId": "11366564890450274220"
     },
     "user_tz": 300
    },
    "id": "dfRofCyBXZ53",
    "outputId": "2de66ea2-3e6d-4986-dbe1-967d97848bce"
   },
   "outputs": [
    {
     "data": {
      "text/plain": [
       "array([0., 0., 0., 0., 0., 0., 0., 0., 0., 1.], dtype=float32)"
      ]
     },
     "execution_count": 42,
     "metadata": {
      "tags": []
     },
     "output_type": "execute_result"
    }
   ],
   "source": [
    "Y_train[1]"
   ]
  },
  {
   "cell_type": "code",
   "execution_count": 49,
   "metadata": {
    "colab": {
     "base_uri": "https://localhost:8080/",
     "height": 731
    },
    "colab_type": "code",
    "executionInfo": {
     "elapsed": 283,
     "status": "ok",
     "timestamp": 1586404073749,
     "user": {
      "displayName": "Sanjoy Kundu",
      "photoUrl": "",
      "userId": "11366564890450274220"
     },
     "user_tz": 300
    },
    "id": "BC7R0Q5CXZ55",
    "outputId": "c2ad654d-6ffc-4215-9b3a-9dbd1a92663b"
   },
   "outputs": [
    {
     "name": "stdout",
     "output_type": "stream",
     "text": [
      "Model: \"sequential_5\"\n",
      "_________________________________________________________________\n",
      "Layer (type)                 Output Shape              Param #   \n",
      "=================================================================\n",
      "conv2d_38 (Conv2D)           (None, 32, 32, 32)        896       \n",
      "_________________________________________________________________\n",
      "conv2d_39 (Conv2D)           (None, 32, 32, 64)        18496     \n",
      "_________________________________________________________________\n",
      "max_pooling2d_16 (MaxPooling (None, 16, 16, 64)        0         \n",
      "_________________________________________________________________\n",
      "conv2d_40 (Conv2D)           (None, 16, 16, 128)       73856     \n",
      "_________________________________________________________________\n",
      "conv2d_41 (Conv2D)           (None, 16, 16, 128)       147584    \n",
      "_________________________________________________________________\n",
      "max_pooling2d_17 (MaxPooling (None, 8, 8, 128)         0         \n",
      "_________________________________________________________________\n",
      "conv2d_42 (Conv2D)           (None, 8, 8, 256)         295168    \n",
      "_________________________________________________________________\n",
      "conv2d_43 (Conv2D)           (None, 8, 8, 256)         590080    \n",
      "_________________________________________________________________\n",
      "max_pooling2d_18 (MaxPooling (None, 4, 4, 256)         0         \n",
      "_________________________________________________________________\n",
      "conv2d_44 (Conv2D)           (None, 4, 4, 512)         1180160   \n",
      "_________________________________________________________________\n",
      "conv2d_45 (Conv2D)           (None, 4, 4, 512)         2359808   \n",
      "_________________________________________________________________\n",
      "max_pooling2d_19 (MaxPooling (None, 2, 2, 512)         0         \n",
      "_________________________________________________________________\n",
      "flatten_5 (Flatten)          (None, 2048)              0         \n",
      "_________________________________________________________________\n",
      "dense_15 (Dense)             (None, 128)               262272    \n",
      "_________________________________________________________________\n",
      "dense_16 (Dense)             (None, 256)               33024     \n",
      "_________________________________________________________________\n",
      "dense_17 (Dense)             (None, 512)               131584    \n",
      "_________________________________________________________________\n",
      "dense_18 (Dense)             (None, 10)                5130      \n",
      "=================================================================\n",
      "Total params: 5,098,058\n",
      "Trainable params: 5,098,058\n",
      "Non-trainable params: 0\n",
      "_________________________________________________________________\n"
     ]
    }
   ],
   "source": [
    "model = Sequential()\n",
    "model.add(Conv2D(filters = 32, kernel_size = (3,3),padding = 'Same', \n",
    "                 activation ='relu', input_shape = (32, 32, 3)))\n",
    "model.add(Conv2D(filters=64, kernel_size=(3,3), padding='same', activation='relu'))\n",
    "model.add(MaxPooling2D(pool_size=(2,2), strides=(2,2)))\n",
    "\n",
    "model.add(Conv2D(filters=128, kernel_size=(3,3), padding='same', activation='relu'))\n",
    "model.add(Conv2D(filters=128, kernel_size=(3,3), padding='same', activation='relu'))\n",
    "model.add(MaxPooling2D(pool_size=(2,2), strides=(2,2)))\n",
    "\n",
    "\n",
    "model.add(Conv2D(filters=256, kernel_size=(3,3), padding='same', activation='relu'))\n",
    "model.add(Conv2D(filters=256, kernel_size=(3,3), padding='same', activation='relu'))\n",
    "model.add(MaxPooling2D(pool_size=(2,2), strides=(2,2)))\n",
    "\n",
    "\n",
    "model.add(Conv2D(filters=512, kernel_size=(3,3), padding='same', activation='relu'))\n",
    "model.add(Conv2D(filters=512, kernel_size=(3,3), padding='same', activation='relu'))\n",
    "model.add(MaxPooling2D(pool_size=(2,2), strides=(2,2)))\n",
    "\n",
    "model.add(Flatten())\n",
    "model.add(Dense(units=128, activation='relu'))\n",
    "model.add(Dense(units=256, activation='relu'))\n",
    "model.add(Dense(units=512, activation='relu'))\n",
    "model.add(Dense(units=10, activation='softmax'))\n",
    "model.summary()"
   ]
  },
  {
   "cell_type": "code",
   "execution_count": 0,
   "metadata": {
    "colab": {},
    "colab_type": "code",
    "id": "tKp0rBPTXZ58"
   },
   "outputs": [],
   "source": [
    "#model.compile(optimizer='adam', metrics=['accuracy'], loss='categorical_crossentropy')\n",
    "model.compile(keras.optimizers.Adam(learning_rate=0.001), loss = 'categorical_crossentropy', metrics = ['accuracy'])\n",
    "#model.compile(RMSprop(lr = 0.1), loss = 'categorical_crossentropy', metrics = ['accuracy'])"
   ]
  },
  {
   "cell_type": "code",
   "execution_count": 52,
   "metadata": {
    "colab": {
     "base_uri": "https://localhost:8080/",
     "height": 357
    },
    "colab_type": "code",
    "executionInfo": {
     "elapsed": 72655,
     "status": "ok",
     "timestamp": 1586404159441,
     "user": {
      "displayName": "Sanjoy Kundu",
      "photoUrl": "",
      "userId": "11366564890450274220"
     },
     "user_tz": 300
    },
    "id": "wYNhDtpNXZ5_",
    "outputId": "fc36004b-b47d-4ff7-87d0-3dca09ec66b0",
    "scrolled": true
   },
   "outputs": [
    {
     "name": "stdout",
     "output_type": "stream",
     "text": [
      "Epoch 1/10\n",
      "352/352 - 7s - loss: 2.0328 - accuracy: 0.2031 - val_loss: 1.7126 - val_accuracy: 0.3428\n",
      "Epoch 2/10\n",
      "352/352 - 7s - loss: 1.4863 - accuracy: 0.4418 - val_loss: 1.2528 - val_accuracy: 0.5440\n",
      "Epoch 3/10\n",
      "352/352 - 7s - loss: 1.0998 - accuracy: 0.6016 - val_loss: 1.0321 - val_accuracy: 0.6464\n",
      "Epoch 4/10\n",
      "352/352 - 7s - loss: 0.8885 - accuracy: 0.6818 - val_loss: 0.8266 - val_accuracy: 0.7114\n",
      "Epoch 5/10\n",
      "352/352 - 7s - loss: 0.7430 - accuracy: 0.7390 - val_loss: 0.7868 - val_accuracy: 0.7386\n",
      "Epoch 6/10\n",
      "352/352 - 7s - loss: 0.6283 - accuracy: 0.7797 - val_loss: 0.7268 - val_accuracy: 0.7520\n",
      "Epoch 7/10\n",
      "352/352 - 7s - loss: 0.5328 - accuracy: 0.8142 - val_loss: 0.6950 - val_accuracy: 0.7788\n",
      "Epoch 8/10\n",
      "352/352 - 7s - loss: 0.4390 - accuracy: 0.8470 - val_loss: 0.7231 - val_accuracy: 0.7768\n",
      "Epoch 9/10\n",
      "352/352 - 7s - loss: 0.3610 - accuracy: 0.8742 - val_loss: 0.7308 - val_accuracy: 0.7780\n",
      "Epoch 10/10\n",
      "352/352 - 7s - loss: 0.3111 - accuracy: 0.8904 - val_loss: 0.7630 - val_accuracy: 0.7684\n"
     ]
    }
   ],
   "source": [
    "history = model.fit(X_train, Y_train, epochs = 10, validation_split= 0.1, batch_size = 128, verbose = 2, shuffle= 1)"
   ]
  },
  {
   "cell_type": "code",
   "execution_count": 46,
   "metadata": {
    "colab": {
     "base_uri": "https://localhost:8080/",
     "height": 85
    },
    "colab_type": "code",
    "executionInfo": {
     "elapsed": 138484,
     "status": "ok",
     "timestamp": 1586404046826,
     "user": {
      "displayName": "Sanjoy Kundu",
      "photoUrl": "",
      "userId": "11366564890450274220"
     },
     "user_tz": 300
    },
    "id": "n80aS0zFXZ6B",
    "outputId": "60004fcd-c0c3-446f-a6c5-e3de8d701bd3"
   },
   "outputs": [
    {
     "name": "stdout",
     "output_type": "stream",
     "text": [
      "score =  0.8009107112884521\n",
      "accuracy =   0.7850000262260437\n",
      "score =  0.7926926016807556\n",
      "accuracy =   0.7789999842643738\n"
     ]
    }
   ],
   "source": [
    "scores = model.evaluate(X_test, Y_test, verbose=0)                     #testing the model with test data\n",
    "#print(scores)\n",
    "print(\"score = \", scores[0])\n",
    "print(\"accuracy =  \", scores[1])"
   ]
  },
  {
   "cell_type": "code",
   "execution_count": 47,
   "metadata": {
    "colab": {
     "base_uri": "https://localhost:8080/",
     "height": 607
    },
    "colab_type": "code",
    "executionInfo": {
     "elapsed": 138616,
     "status": "ok",
     "timestamp": 1586404046968,
     "user": {
      "displayName": "Sanjoy Kundu",
      "photoUrl": "",
      "userId": "11366564890450274220"
     },
     "user_tz": 300
    },
    "id": "A0E4noLuXZ6D",
    "outputId": "37eeb754-c4e4-4469-8c26-c47b08870649"
   },
   "outputs": [
    {
     "data": {
      "text/plain": [
       "Text(0.5, 0, 'epoch')"
      ]
     },
     "execution_count": 36,
     "metadata": {
      "tags": []
     },
     "output_type": "execute_result"
    },
    {
     "data": {
      "image/png": "[encoded data removed]",
      "text/plain": [
       "<Figure size 432x288 with 1 Axes>"
      ]
     },
     "metadata": {
      "tags": []
     },
     "output_type": "display_data"
    },
    {
     "data": {
      "text/plain": [
       "Text(0.5, 0, 'epoch')"
      ]
     },
     "execution_count": 47,
     "metadata": {
      "tags": []
     },
     "output_type": "execute_result"
    },
    {
     "data": {
      "image/png": "[encoded data removed]",
      "text/plain": [
       "<Figure size 432x288 with 1 Axes>"
      ]
     },
     "metadata": {
      "tags": []
     },
     "output_type": "display_data"
    }
   ],
   "source": [
    "plt.plot(history.history['loss'])\n",
    "plt.plot(history.history['val_loss'])\n",
    "plt.legend(['loss_training', 'loss_validation'])\n",
    "plt.title('Loss')\n",
    "plt.xlabel('epoch')\n",
    "\n",
    "#plt.plot(history.history['acc'])\n",
    "#plt.plot(history.history['val_acc'])\n",
    "#plt.legend(['accuracy_training','accuracy_validation'])\n",
    "#plt.title('Accuracy')\n",
    "#plt.xlabel('epoch')"
   ]
  },
  {
   "cell_type": "code",
   "execution_count": 0,
   "metadata": {
    "colab": {},
    "colab_type": "code",
    "id": "F9gBrrKiXZ6F"
   },
   "outputs": [],
   "source": []
  }
 ],
 "metadata": {
  "accelerator": "GPU",
  "colab": {
   "collapsed_sections": [],
   "machine_shape": "hm",
   "name": "CIFAR10_VGG16.ipynb",
   "provenance": []
  },
  "kernelspec": {
   "display_name": "Python 3",
   "language": "python",
   "name": "python3"
  },
  "language_info": {
   "codemirror_mode": {
    "name": "ipython",
    "version": 3
   },
   "file_extension": ".py",
   "mimetype": "text/x-python",
   "name": "python",
   "nbconvert_exporter": "python",
   "pygments_lexer": "ipython3",
   "version": "3.7.6"
  }
 },
 "nbformat": 4,
 "nbformat_minor": 1
}
